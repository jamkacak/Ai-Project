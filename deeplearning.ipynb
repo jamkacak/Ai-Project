{
 "cells": [
  {
   "cell_type": "code",
   "execution_count": 1,
   "metadata": {},
   "outputs": [],
   "source": [
    "import numpy as np\n",
    "import pandas as pd\n",
    "import torch\n",
    "from torch.utils.data import TensorDataset\n",
    "import torch.nn as nn\n",
    "import torch.optim as optim\n",
    "from torch.utils.data import Dataset, TensorDataset, DataLoader"
   ]
  },
  {
   "cell_type": "code",
   "execution_count": 2,
   "metadata": {},
   "outputs": [],
   "source": [
    "dataset = np.loadtxt('water_potability.csv', delimiter=',')\n",
    "X = dataset[:,0:9]\n",
    "y = dataset[:,9]"
   ]
  },
  {
   "cell_type": "code",
   "execution_count": 3,
   "metadata": {},
   "outputs": [],
   "source": [
    "torch_features = torch.tensor(X, dtype=torch.float32)\n",
    "torch_target = torch.tensor(y, dtype=torch.float32).reshape(-1, 1)\n",
    "\n",
    "dataset = TensorDataset(torch_features, torch_target)"
   ]
  },
  {
   "cell_type": "code",
   "execution_count": 4,
   "metadata": {},
   "outputs": [
    {
     "name": "stdout",
     "output_type": "stream",
     "text": [
      "Sequential(\n",
      "  (0): Linear(in_features=9, out_features=12, bias=True)\n",
      "  (1): ReLU()\n",
      "  (2): Linear(in_features=12, out_features=8, bias=True)\n",
      "  (3): ReLU()\n",
      "  (4): Linear(in_features=8, out_features=1, bias=True)\n",
      "  (5): Sigmoid()\n",
      ")\n"
     ]
    },
    {
     "name": "stderr",
     "output_type": "stream",
     "text": [
      "c:\\Users\\pc\\AppData\\Local\\Programs\\Python\\Python312\\Lib\\site-packages\\tqdm\\auto.py:21: TqdmWarning: IProgress not found. Please update jupyter and ipywidgets. See https://ipywidgets.readthedocs.io/en/stable/user_install.html\n",
      "  from .autonotebook import tqdm as notebook_tqdm\n"
     ]
    }
   ],
   "source": [
    "# define the model\n",
    "model = nn.Sequential(\n",
    "    nn.Linear(9, 12),\n",
    "    nn.ReLU(),\n",
    "    nn.Linear(12, 8),\n",
    "    nn.ReLU(),\n",
    "    nn.Linear(8, 1),\n",
    "    nn.Sigmoid()\n",
    ")\n",
    "print(model)\n",
    " \n",
    "# train the model\n",
    "loss_fn   = nn.BCELoss()  # binary cross entropy\n",
    "optimizer = optim.Adam(model.parameters(), lr=0.001)"
   ]
  },
  {
   "cell_type": "code",
   "execution_count": 7,
   "metadata": {},
   "outputs": [
    {
     "name": "stdout",
     "output_type": "stream",
     "text": [
      "Finished epoch 0, latest loss 0.9632865190505981\n",
      "Finished epoch 1, latest loss 0.9643961787223816\n",
      "Finished epoch 2, latest loss 0.9577561020851135\n",
      "Finished epoch 3, latest loss 0.9632683396339417\n",
      "Finished epoch 4, latest loss 0.9625293612480164\n",
      "Finished epoch 5, latest loss 0.9663285613059998\n",
      "Finished epoch 6, latest loss 0.9729644656181335\n",
      "Finished epoch 7, latest loss 0.9769924283027649\n",
      "Finished epoch 8, latest loss 0.9775999784469604\n",
      "Finished epoch 9, latest loss 0.9839501976966858\n",
      "Finished epoch 10, latest loss 0.9837152361869812\n",
      "Finished epoch 11, latest loss 0.9881535172462463\n",
      "Finished epoch 12, latest loss 0.9913529753684998\n",
      "Finished epoch 13, latest loss 0.9954665303230286\n",
      "Finished epoch 14, latest loss 1.0042171478271484\n",
      "Finished epoch 15, latest loss 1.0021882057189941\n",
      "Finished epoch 16, latest loss 1.0104066133499146\n",
      "Finished epoch 17, latest loss 1.0143311023712158\n",
      "Finished epoch 18, latest loss 1.013110637664795\n",
      "Finished epoch 19, latest loss 1.0130681991577148\n",
      "Finished epoch 20, latest loss 1.0141204595565796\n",
      "Finished epoch 21, latest loss 1.0115424394607544\n",
      "Finished epoch 22, latest loss 1.0018649101257324\n",
      "Finished epoch 23, latest loss 1.009171485900879\n",
      "Finished epoch 24, latest loss 1.0006921291351318\n",
      "Finished epoch 25, latest loss 1.0052971839904785\n",
      "Finished epoch 26, latest loss 0.997033953666687\n",
      "Finished epoch 27, latest loss 0.9962241649627686\n",
      "Finished epoch 28, latest loss 0.9919407367706299\n",
      "Finished epoch 29, latest loss 0.990345299243927\n",
      "Finished epoch 30, latest loss 0.9862530827522278\n",
      "Finished epoch 31, latest loss 0.9858651757240295\n",
      "Finished epoch 32, latest loss 0.9879730343818665\n",
      "Finished epoch 33, latest loss 0.9855548143386841\n",
      "Finished epoch 34, latest loss 0.9812177419662476\n",
      "Finished epoch 35, latest loss 0.9829745888710022\n",
      "Finished epoch 36, latest loss 0.9773776531219482\n",
      "Finished epoch 37, latest loss 0.9771854877471924\n",
      "Finished epoch 38, latest loss 0.9759044051170349\n",
      "Finished epoch 39, latest loss 0.9726374745368958\n",
      "Finished epoch 40, latest loss 0.9775238633155823\n",
      "Finished epoch 41, latest loss 0.9752610325813293\n",
      "Finished epoch 42, latest loss 0.9778617024421692\n",
      "Finished epoch 43, latest loss 0.977245569229126\n",
      "Finished epoch 44, latest loss 0.9753099679946899\n",
      "Finished epoch 45, latest loss 0.9714586734771729\n",
      "Finished epoch 46, latest loss 0.9709506034851074\n",
      "Finished epoch 47, latest loss 0.9744946956634521\n",
      "Finished epoch 48, latest loss 0.9719178080558777\n",
      "Finished epoch 49, latest loss 0.9737117886543274\n",
      "Finished epoch 50, latest loss 0.9818494915962219\n",
      "Finished epoch 51, latest loss 0.9917444586753845\n",
      "Finished epoch 52, latest loss 0.9931765794754028\n",
      "Finished epoch 53, latest loss 0.9935263395309448\n",
      "Finished epoch 54, latest loss 0.9986823797225952\n",
      "Finished epoch 55, latest loss 0.999626100063324\n",
      "Finished epoch 56, latest loss 1.0011638402938843\n",
      "Finished epoch 57, latest loss 1.0058470964431763\n",
      "Finished epoch 58, latest loss 1.004483938217163\n",
      "Finished epoch 59, latest loss 1.008789300918579\n",
      "Finished epoch 60, latest loss 1.0072511434555054\n",
      "Finished epoch 61, latest loss 1.0054519176483154\n",
      "Finished epoch 62, latest loss 1.0047266483306885\n",
      "Finished epoch 63, latest loss 1.005231261253357\n",
      "Finished epoch 64, latest loss 1.008278250694275\n",
      "Finished epoch 65, latest loss 1.0087890625\n",
      "Finished epoch 66, latest loss 1.0093393325805664\n",
      "Finished epoch 67, latest loss 1.0101200342178345\n",
      "Finished epoch 68, latest loss 1.0022634267807007\n",
      "Finished epoch 69, latest loss 1.0027042627334595\n",
      "Accuracy 0.6787667870521545\n"
     ]
    }
   ],
   "source": [
    "n_epochs = 70\n",
    "batch_size = 10\n",
    " \n",
    "for epoch in range(n_epochs):\n",
    "    for i in range(0, len(X), batch_size):\n",
    "        Xbatch = torch_features[i:i+batch_size]\n",
    "        y_pred = model(Xbatch)\n",
    "        ybatch = torch_target[i:i+batch_size]\n",
    "        loss = loss_fn(y_pred, ybatch)\n",
    "        optimizer.zero_grad()\n",
    "        loss.backward()\n",
    "        optimizer.step()\n",
    "    print(f'Finished epoch {epoch}, latest loss {loss}')\n",
    " \n",
    "# compute accuracy (no_grad is optional)\n",
    "with torch.no_grad():\n",
    "    y_pred = model(torch_features)\n",
    "accuracy = (y_pred.round() == torch_target).float().mean()\n",
    "print(f\"Accuracy {accuracy}\")"
   ]
  },
  {
   "cell_type": "code",
   "execution_count": 6,
   "metadata": {},
   "outputs": [
    {
     "name": "stdout",
     "output_type": "stream",
     "text": [
      "[0.5873491764068604, 0.5777466893196106, 0.38629788160324097, 0.5681993961334229, 0.6473474502563477, 0.2929854393005371, 0.6545215845108032, 0.79502934217453, 0.630114734172821] => 0 (expected 0)\n",
      "[0.643653929233551, 0.44130033254623413, 0.31438058614730835, 0.43930405378341675, 0.5145453810691833, 0.3566846251487732, 0.37724795937538147, 0.20291434228420258, 0.5203580260276794] => 0 (expected 0)\n",
      "[0.38893353939056396, 0.47087565064430237, 0.5061224102973938, 0.5243635177612305, 0.5615373849868774, 0.14291265606880188, 0.24992170929908752, 0.40148717164993286, 0.21997295320034027] => 0 (expected 0)\n",
      "[0.7258204817771912, 0.7159419655799866, 0.5061407089233398, 0.521682858467102, 0.7518191933631897, 0.14868314564228058, 0.46720007061958313, 0.6586776375770569, 0.24242807924747467] => 0 (expected 0)\n",
      "[0.6105172634124756, 0.5325875878334045, 0.237701416015625, 0.27028825879096985, 0.49515509605407715, 0.494791716337204, 0.4097205102443695, 0.4697616696357727, 0.5850489139556885] => 0 (expected 0)\n"
     ]
    }
   ],
   "source": [
    "# make class predictions with the model\n",
    "predictions = (model(torch_features) > 0.5).int()\n",
    "for i in range(5):\n",
    "    print('%s => %d (expected %d)' % (torch_features[i].tolist(), predictions[i], torch_target[i]))\n"
   ]
  }
 ],
 "metadata": {
  "kernelspec": {
   "display_name": "Python 3",
   "language": "python",
   "name": "python3"
  },
  "language_info": {
   "codemirror_mode": {
    "name": "ipython",
    "version": 3
   },
   "file_extension": ".py",
   "mimetype": "text/x-python",
   "name": "python",
   "nbconvert_exporter": "python",
   "pygments_lexer": "ipython3",
   "version": "3.12.3"
  }
 },
 "nbformat": 4,
 "nbformat_minor": 2
}
